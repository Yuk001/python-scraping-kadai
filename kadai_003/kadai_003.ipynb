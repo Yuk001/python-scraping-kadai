{
  "nbformat": 4,
  "nbformat_minor": 0,
  "metadata": {
    "colab": {
      "provenance": []
    },
    "kernelspec": {
      "name": "python3",
      "display_name": "Python 3"
    },
    "language_info": {
      "name": "python"
    }
  },
  "cells": [
    {
      "cell_type": "code",
      "execution_count": null,
      "metadata": {
        "id": "25HT2ei4WKAM"
      },
      "outputs": [],
      "source": [
        "#マイプロフィール '#root >  div >div >div >header >div >div >div.sc-jeToga.lgFoIz'\n",
        "#アカウント設定 '#root >  div >div >div >header >div >ul >a >li'\n",
        "#プロフィール内編集ボタン '#root >  div >div >div > main >div >div >button'\n",
        "#自己紹介欄 '#root >  div >div >div > main >div >div >div >div >textarea'\n",
        "#更新する '#root >  div >div >div > main >div >div > button.sc-eDvSVe.iklejs'\n",
        "#ユーザー情報 '#root >div > div >div >main > div> div > div >h3'"
      ]
    },
    {
      "cell_type": "code",
      "source": [
        "# セレニウムをインストールする。\n",
        "!pip install selenium"
      ],
      "metadata": {
        "id": "_nabQDCoZKPX",
        "colab": {
          "base_uri": "https://localhost:8080/"
        },
        "outputId": "866bef70-514f-4889-9af1-d7b9be4f30e3"
      },
      "execution_count": null,
      "outputs": [
        {
          "output_type": "stream",
          "name": "stdout",
          "text": [
            "Collecting selenium\n",
            "  Downloading selenium-4.15.2-py3-none-any.whl (10.2 MB)\n",
            "\u001b[2K     \u001b[90m━━━━━━━━━━━━━━━━━━━━━━━━━━━━━━━━━━━━━━━━\u001b[0m \u001b[32m10.2/10.2 MB\u001b[0m \u001b[31m46.3 MB/s\u001b[0m eta \u001b[36m0:00:00\u001b[0m\n",
            "\u001b[?25hRequirement already satisfied: urllib3[socks]<3,>=1.26 in /usr/local/lib/python3.10/dist-packages (from selenium) (2.0.7)\n",
            "Collecting trio~=0.17 (from selenium)\n",
            "  Downloading trio-0.23.1-py3-none-any.whl (448 kB)\n",
            "\u001b[2K     \u001b[90m━━━━━━━━━━━━━━━━━━━━━━━━━━━━━━━━━━━━━━━━\u001b[0m \u001b[32m448.3/448.3 kB\u001b[0m \u001b[31m36.4 MB/s\u001b[0m eta \u001b[36m0:00:00\u001b[0m\n",
            "\u001b[?25hCollecting trio-websocket~=0.9 (from selenium)\n",
            "  Downloading trio_websocket-0.11.1-py3-none-any.whl (17 kB)\n",
            "Requirement already satisfied: certifi>=2021.10.8 in /usr/local/lib/python3.10/dist-packages (from selenium) (2023.7.22)\n",
            "Requirement already satisfied: attrs>=20.1.0 in /usr/local/lib/python3.10/dist-packages (from trio~=0.17->selenium) (23.1.0)\n",
            "Requirement already satisfied: sortedcontainers in /usr/local/lib/python3.10/dist-packages (from trio~=0.17->selenium) (2.4.0)\n",
            "Requirement already satisfied: idna in /usr/local/lib/python3.10/dist-packages (from trio~=0.17->selenium) (3.4)\n",
            "Collecting outcome (from trio~=0.17->selenium)\n",
            "  Downloading outcome-1.3.0.post0-py2.py3-none-any.whl (10 kB)\n",
            "Requirement already satisfied: sniffio>=1.3.0 in /usr/local/lib/python3.10/dist-packages (from trio~=0.17->selenium) (1.3.0)\n",
            "Requirement already satisfied: exceptiongroup>=1.0.0rc9 in /usr/local/lib/python3.10/dist-packages (from trio~=0.17->selenium) (1.1.3)\n",
            "Collecting wsproto>=0.14 (from trio-websocket~=0.9->selenium)\n",
            "  Downloading wsproto-1.2.0-py3-none-any.whl (24 kB)\n",
            "Requirement already satisfied: pysocks!=1.5.7,<2.0,>=1.5.6 in /usr/local/lib/python3.10/dist-packages (from urllib3[socks]<3,>=1.26->selenium) (1.7.1)\n",
            "Collecting h11<1,>=0.9.0 (from wsproto>=0.14->trio-websocket~=0.9->selenium)\n",
            "  Downloading h11-0.14.0-py3-none-any.whl (58 kB)\n",
            "\u001b[2K     \u001b[90m━━━━━━━━━━━━━━━━━━━━━━━━━━━━━━━━━━━━━━━━\u001b[0m \u001b[32m58.3/58.3 kB\u001b[0m \u001b[31m5.8 MB/s\u001b[0m eta \u001b[36m0:00:00\u001b[0m\n",
            "\u001b[?25hInstalling collected packages: outcome, h11, wsproto, trio, trio-websocket, selenium\n",
            "Successfully installed h11-0.14.0 outcome-1.3.0.post0 selenium-4.15.2 trio-0.23.1 trio-websocket-0.11.1 wsproto-1.2.0\n"
          ]
        }
      ]
    },
    {
      "cell_type": "code",
      "source": [
        "# セレニウムを操作するウェブドライバーをインポート\n",
        "from selenium import webdriver\n",
        "# セレニウムでhtml要素を特定するByバイをインポート\n",
        "from selenium.webdriver.common.by import By\n",
        "# 入力画面やウィンドウが表示されるまで待つアクションを実行するモジュールのセレニウム・ウェブドライバー・サポート・ユーアイのウェブドライバーウェイトをインポートする。\n",
        "from selenium.webdriver.support.ui import WebDriverWait\n",
        "# 「待つ」条件を指定するモジュールのセレニウム・ウェブドライバー・サポートのエクスペクテッド・コンディションズをインポートする。\n",
        "from selenium.webdriver.support import expected_conditions as EC\n",
        "\n",
        "# webdriverの設定\n",
        "# ヘッドレスモードで起動するためのオプションを設定\n",
        "chrome_options = webdriver.ChromeOptions()\n",
        "chrome_options.add_argument('--headless') # 画面表示不可のためheadless\n",
        "chrome_options.add_argument('--no-sandbox')\n",
        "chrome_options.add_argument('--disable-dev-shm-usage')\n",
        "\n",
        "# Chromeを立ち上げる\n",
        "chrome_driver = webdriver.Chrome(options=chrome_options) # 以降の命令のためにインスタンスして同時にブラウザ起動"
      ],
      "metadata": {
        "id": "ORMyLPilZQ7_"
      },
      "execution_count": null,
      "outputs": []
    },
    {
      "cell_type": "code",
      "source": [
        "# サイトのhome画面にアクセスする。\n",
        "chrome_driver.get('https://terakoya.sejuku.net/home') # セレニウムgetメソッドにurlを入力。"
      ],
      "metadata": {
        "id": "_cLETr9G4qS_"
      },
      "execution_count": null,
      "outputs": []
    },
    {
      "cell_type": "code",
      "source": [
        "# サイトのhome画面にアクセスする。\n",
        "chrome_driver.get('https://terakoya.sejuku.net/home') # セレニウムgetメソッドにurlを入力。\n",
        "\n",
        "# ページが表示されるまで待つ時間を設定する。\n",
        "wait = WebDriverWait(chrome_driver, 30)\n",
        "# プロフィールリンクが設定時間まで表示されるのを待つ。\n",
        "profile_link = wait.until(\n",
        "    EC.visibility_of_element_located(\n",
        "        (By.CSS_SELECTOR,\n",
        "         '#root >  div > div > div > header > div > div > div.sc-jeToga.lgFoIz')\n",
        "    )\n",
        ")\n",
        "# プロフィールリンクをクリックする。\n",
        "profile_link.click()"
      ],
      "metadata": {
        "id": "lQr_nPBRlxWh",
        "colab": {
          "base_uri": "https://localhost:8080/",
          "height": 718
        },
        "outputId": "cb234821-9306-4bd0-f751-18b3c4358c4b"
      },
      "execution_count": null,
      "outputs": [
        {
          "output_type": "error",
          "ename": "TimeoutException",
          "evalue": "ignored",
          "traceback": [
            "\u001b[0;31m---------------------------------------------------------------------------\u001b[0m",
            "\u001b[0;31mTimeoutException\u001b[0m                          Traceback (most recent call last)",
            "\u001b[0;32m<ipython-input-11-b4f154a49b09>\u001b[0m in \u001b[0;36m<cell line: 7>\u001b[0;34m()\u001b[0m\n\u001b[1;32m      5\u001b[0m \u001b[0mwait\u001b[0m \u001b[0;34m=\u001b[0m \u001b[0mWebDriverWait\u001b[0m\u001b[0;34m(\u001b[0m\u001b[0mchrome_driver\u001b[0m\u001b[0;34m,\u001b[0m \u001b[0;36m30\u001b[0m\u001b[0;34m)\u001b[0m\u001b[0;34m\u001b[0m\u001b[0;34m\u001b[0m\u001b[0m\n\u001b[1;32m      6\u001b[0m \u001b[0;31m# プロフィールリンクが設定時間まで表示されるのを待つ。\u001b[0m\u001b[0;34m\u001b[0m\u001b[0;34m\u001b[0m\u001b[0m\n\u001b[0;32m----> 7\u001b[0;31m profile_link = wait.until(\n\u001b[0m\u001b[1;32m      8\u001b[0m     EC.visibility_of_element_located(\n\u001b[1;32m      9\u001b[0m         (By.CSS_SELECTOR,\n",
            "\u001b[0;32m/usr/local/lib/python3.10/dist-packages/selenium/webdriver/support/wait.py\u001b[0m in \u001b[0;36muntil\u001b[0;34m(self, method, message)\u001b[0m\n\u001b[1;32m     99\u001b[0m             \u001b[0;32mif\u001b[0m \u001b[0mtime\u001b[0m\u001b[0;34m.\u001b[0m\u001b[0mmonotonic\u001b[0m\u001b[0;34m(\u001b[0m\u001b[0;34m)\u001b[0m \u001b[0;34m>\u001b[0m \u001b[0mend_time\u001b[0m\u001b[0;34m:\u001b[0m\u001b[0;34m\u001b[0m\u001b[0;34m\u001b[0m\u001b[0m\n\u001b[1;32m    100\u001b[0m                 \u001b[0;32mbreak\u001b[0m\u001b[0;34m\u001b[0m\u001b[0;34m\u001b[0m\u001b[0m\n\u001b[0;32m--> 101\u001b[0;31m         \u001b[0;32mraise\u001b[0m \u001b[0mTimeoutException\u001b[0m\u001b[0;34m(\u001b[0m\u001b[0mmessage\u001b[0m\u001b[0;34m,\u001b[0m \u001b[0mscreen\u001b[0m\u001b[0;34m,\u001b[0m \u001b[0mstacktrace\u001b[0m\u001b[0;34m)\u001b[0m\u001b[0;34m\u001b[0m\u001b[0;34m\u001b[0m\u001b[0m\n\u001b[0m\u001b[1;32m    102\u001b[0m \u001b[0;34m\u001b[0m\u001b[0m\n\u001b[1;32m    103\u001b[0m     \u001b[0;32mdef\u001b[0m \u001b[0muntil_not\u001b[0m\u001b[0;34m(\u001b[0m\u001b[0mself\u001b[0m\u001b[0;34m,\u001b[0m \u001b[0mmethod\u001b[0m\u001b[0;34m:\u001b[0m \u001b[0mCallable\u001b[0m\u001b[0;34m[\u001b[0m\u001b[0;34m[\u001b[0m\u001b[0mWebDriver\u001b[0m\u001b[0;34m]\u001b[0m\u001b[0;34m,\u001b[0m \u001b[0mT\u001b[0m\u001b[0;34m]\u001b[0m\u001b[0;34m,\u001b[0m \u001b[0mmessage\u001b[0m\u001b[0;34m:\u001b[0m \u001b[0mstr\u001b[0m \u001b[0;34m=\u001b[0m \u001b[0;34m\"\"\u001b[0m\u001b[0;34m)\u001b[0m \u001b[0;34m->\u001b[0m \u001b[0mUnion\u001b[0m\u001b[0;34m[\u001b[0m\u001b[0mT\u001b[0m\u001b[0;34m,\u001b[0m \u001b[0mLiteral\u001b[0m\u001b[0;34m[\u001b[0m\u001b[0;32mTrue\u001b[0m\u001b[0;34m]\u001b[0m\u001b[0;34m]\u001b[0m\u001b[0;34m:\u001b[0m\u001b[0;34m\u001b[0m\u001b[0;34m\u001b[0m\u001b[0m\n",
            "\u001b[0;31mTimeoutException\u001b[0m: Message: \nStacktrace:\n#0 0x5997f231e5e3 <unknown>\n#1 0x5997f1fe10b7 <unknown>\n#2 0x5997f202ef53 <unknown>\n#3 0x5997f202f051 <unknown>\n#4 0x5997f20749c4 <unknown>\n#5 0x5997f2055f1d <unknown>\n#6 0x5997f2071b3d <unknown>\n#7 0x5997f2055cc3 <unknown>\n#8 0x5997f20210e4 <unknown>\n#9 0x5997f20220ae <unknown>\n#10 0x5997f22e4ce1 <unknown>\n#11 0x5997f22e8b7e <unknown>\n#12 0x5997f22d24b5 <unknown>\n#13 0x5997f22e97d6 <unknown>\n#14 0x5997f22b5dbf <unknown>\n#15 0x5997f230c748 <unknown>\n#16 0x5997f230c917 <unknown>\n#17 0x5997f231d773 <unknown>\n#18 0x7d9344cf2ac3 <unknown>\n"
          ]
        }
      ]
    },
    {
      "cell_type": "code",
      "source": [
        "# プロフィール小窓画面が表示されるのを待つ。\n",
        "# アカウント設定リンクを選択する。\n",
        "profile_link_next = wait.until(\n",
        "    EC.visibility_of_element_located(\n",
        "        (By.CSS_SELECTOR,\n",
        "         '#root >  div >div >div >header >div >ul >a >li')\n",
        "    )\n",
        ")\n",
        "# アカウント設定リンクをクリックする。\n",
        "profile_link_next.click()"
      ],
      "metadata": {
        "id": "9yoiblhJn8ak"
      },
      "execution_count": null,
      "outputs": []
    },
    {
      "cell_type": "code",
      "source": [
        "# マイアカウント画面が表示されたら編集ボタンをクリックする。\n",
        "myaccount_henshu_button = wait.until(\n",
        "    EC.visibility_of_element_located(\n",
        "        (By.CSS_SELECTOR,\n",
        "         '#root >  div >div >div > main >div >div >button')\n",
        "    )\n",
        ")\n",
        "\n",
        "myaccount_henshu_button.click()"
      ],
      "metadata": {
        "id": "Gl-fPeT0ulC8"
      },
      "execution_count": null,
      "outputs": []
    },
    {
      "cell_type": "code",
      "source": [
        "# アカウント設定画面の自己紹介欄が表示されるのを待つ。\n",
        "myaccount_intro = wait.until(\n",
        "    EC.visibility_of_element_located(\n",
        "        (By.CSS_SELECTOR,\n",
        "         '#root >  div >div >div > main >div >div >div >div >textarea')\n",
        "    )\n",
        ")"
      ],
      "metadata": {
        "id": "xwNfHBFOo7rR"
      },
      "execution_count": null,
      "outputs": []
    },
    {
      "cell_type": "code",
      "source": [
        "# 自己紹介欄に自己紹介を記入する。\n",
        "myaccount_intro.send_keys('プログラミング学習中です！今はスクレイピングに挑戦しています！')\n",
        "\n",
        "# 更新するボタンをクリックする。\n",
        "renew_button = chrome_driver.find_element(By.CSS_SELECTOR, '#root >  div >div >div > main >div >div > button.sc-eDvSVe.iklejs')\n",
        "renew_button.click()"
      ],
      "metadata": {
        "id": "rdGDVy1xr1pY"
      },
      "execution_count": null,
      "outputs": []
    },
    {
      "cell_type": "code",
      "source": [
        "# 編集選択画面が表示されるまで待つ。\n",
        "wait.until(EC.visibility_of_element(By.CSS_SELECTOR, '#root >div > div >div >main > div> div > div >h3'))\n",
        "#スクリーンショットを撮る。\n",
        "chrome_driver.save_screenshot('screenshot.png')"
      ],
      "metadata": {
        "id": "3pMQ7S74wKqr"
      },
      "execution_count": null,
      "outputs": []
    },
    {
      "cell_type": "code",
      "source": [
        "# ブラウザを閉じる。\n",
        "chrome_driver.quit()"
      ],
      "metadata": {
        "id": "TKZAZ8u2yM-N",
        "colab": {
          "base_uri": "https://localhost:8080/"
        },
        "outputId": "f28b64fa-0e95-4ecb-de8a-aa8123a8a593"
      },
      "execution_count": null,
      "outputs": [
        {
          "output_type": "stream",
          "name": "stderr",
          "text": [
            "WARNING:urllib3.connectionpool:Retrying (Retry(total=2, connect=None, read=None, redirect=None, status=None)) after connection broken by 'NewConnectionError('<urllib3.connection.HTTPConnection object at 0x7a8ff47bf880>: Failed to establish a new connection: [Errno 111] Connection refused')': /session/56385b7a45606b1f06a34f2e6f625f1e\n",
            "WARNING:urllib3.connectionpool:Retrying (Retry(total=1, connect=None, read=None, redirect=None, status=None)) after connection broken by 'NewConnectionError('<urllib3.connection.HTTPConnection object at 0x7a8ff47bdff0>: Failed to establish a new connection: [Errno 111] Connection refused')': /session/56385b7a45606b1f06a34f2e6f625f1e\n",
            "WARNING:urllib3.connectionpool:Retrying (Retry(total=0, connect=None, read=None, redirect=None, status=None)) after connection broken by 'NewConnectionError('<urllib3.connection.HTTPConnection object at 0x7a8ff47bfc10>: Failed to establish a new connection: [Errno 111] Connection refused')': /session/56385b7a45606b1f06a34f2e6f625f1e\n"
          ]
        }
      ]
    }
  ]
}