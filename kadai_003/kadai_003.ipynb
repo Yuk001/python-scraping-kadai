{
  "nbformat": 4,
  "nbformat_minor": 0,
  "metadata": {
    "colab": {
      "provenance": []
    },
    "kernelspec": {
      "name": "python3",
      "display_name": "Python 3"
    },
    "language_info": {
      "name": "python"
    }
  },
  "cells": [
    {
      "cell_type": "code",
      "execution_count": null,
      "metadata": {
        "id": "25HT2ei4WKAM"
      },
      "outputs": [],
      "source": [
        "#ログインリンク #root > div > div > div > header > div > div > div.sc-febvLc.iamymF\n",
        "#ログイン #root > div > div > div > div > div > div > button\n",
        "\n",
        "#マイプロフィール '#root >  div >div >div >header >div >div >div.sc-jeToga.lgFoIz'\n",
        "#アカウント設定 '#root >  div >div >div >header >div >ul >a >li'\n",
        "#プロフィール内編集ボタン '#root >  div >div >div > main >div >div >button'\n",
        "#自己紹介欄 '#root >  div >div >div > main >div >div >div >div >textarea'\n",
        "#更新する '#root >  div >div >div > main >div >div > button.sc-eDvSVe.iklejs'\n",
        "#ユーザー情報 '#root >div > div >div >main > div> div > div >h3'"
      ]
    },
    {
      "cell_type": "code",
      "source": [
        "# セレニウムをインストールする。\n",
        "!pip install selenium"
      ],
      "metadata": {
        "id": "_nabQDCoZKPX",
        "colab": {
          "base_uri": "https://localhost:8080/"
        },
        "outputId": "3f28c173-7863-40ff-98e6-041855860d85"
      },
      "execution_count": 20,
      "outputs": [
        {
          "output_type": "stream",
          "name": "stdout",
          "text": [
            "Requirement already satisfied: selenium in /usr/local/lib/python3.10/dist-packages (4.15.2)\n",
            "Requirement already satisfied: urllib3[socks]<3,>=1.26 in /usr/local/lib/python3.10/dist-packages (from selenium) (2.0.7)\n",
            "Requirement already satisfied: trio~=0.17 in /usr/local/lib/python3.10/dist-packages (from selenium) (0.23.1)\n",
            "Requirement already satisfied: trio-websocket~=0.9 in /usr/local/lib/python3.10/dist-packages (from selenium) (0.11.1)\n",
            "Requirement already satisfied: certifi>=2021.10.8 in /usr/local/lib/python3.10/dist-packages (from selenium) (2023.7.22)\n",
            "Requirement already satisfied: attrs>=20.1.0 in /usr/local/lib/python3.10/dist-packages (from trio~=0.17->selenium) (23.1.0)\n",
            "Requirement already satisfied: sortedcontainers in /usr/local/lib/python3.10/dist-packages (from trio~=0.17->selenium) (2.4.0)\n",
            "Requirement already satisfied: idna in /usr/local/lib/python3.10/dist-packages (from trio~=0.17->selenium) (3.4)\n",
            "Requirement already satisfied: outcome in /usr/local/lib/python3.10/dist-packages (from trio~=0.17->selenium) (1.3.0.post0)\n",
            "Requirement already satisfied: sniffio>=1.3.0 in /usr/local/lib/python3.10/dist-packages (from trio~=0.17->selenium) (1.3.0)\n",
            "Requirement already satisfied: exceptiongroup>=1.0.0rc9 in /usr/local/lib/python3.10/dist-packages (from trio~=0.17->selenium) (1.1.3)\n",
            "Requirement already satisfied: wsproto>=0.14 in /usr/local/lib/python3.10/dist-packages (from trio-websocket~=0.9->selenium) (1.2.0)\n",
            "Requirement already satisfied: pysocks!=1.5.7,<2.0,>=1.5.6 in /usr/local/lib/python3.10/dist-packages (from urllib3[socks]<3,>=1.26->selenium) (1.7.1)\n",
            "Requirement already satisfied: h11<1,>=0.9.0 in /usr/local/lib/python3.10/dist-packages (from wsproto>=0.14->trio-websocket~=0.9->selenium) (0.14.0)\n"
          ]
        }
      ]
    },
    {
      "cell_type": "code",
      "source": [
        "# セレニウムを操作するウェブドライバーをインポート\n",
        "from selenium import webdriver\n",
        "# セレニウムでhtml要素を特定するByバイをインポート\n",
        "from selenium.webdriver.common.by import By\n",
        "# 入力画面やウィンドウが表示されるまで待つアクションを実行するモジュールのセレニウム・ウェブドライバー・サポート・ユーアイのウェブドライバーウェイトをインポートする。\n",
        "from selenium.webdriver.support.ui import WebDriverWait\n",
        "# 「待つ」条件を指定するモジュールのセレニウム・ウェブドライバー・サポートのエクスペクテッド・コンディションズをインポートする。\n",
        "from selenium.webdriver.support import expected_conditions as EC\n",
        "\n",
        "# パスワードを保全するゲットパスをインポート\n",
        "from getpass import getpass\n",
        "\n",
        "\n",
        "# webdriverの設定\n",
        "# ヘッドレスモードで起動するためのオプションを設定\n",
        "chrome_options = webdriver.ChromeOptions()\n",
        "chrome_options.add_argument('--headless') # 画面表示不可のためheadless\n",
        "chrome_options.add_argument('--no-sandbox')\n",
        "chrome_options.add_argument('--disable-dev-shm-usage')\n",
        "\n",
        "# Chromeを立ち上げる\n",
        "chrome_driver = webdriver.Chrome(options=chrome_options) # 以降の命令のためにインスタンスして同時にブラウザ起動"
      ],
      "metadata": {
        "id": "ORMyLPilZQ7_"
      },
      "execution_count": 42,
      "outputs": []
    },
    {
      "cell_type": "markdown",
      "source": [
        "侍寺子屋ログイン"
      ],
      "metadata": {
        "id": "2CWkIIOOJgYv"
      }
    },
    {
      "cell_type": "code",
      "source": [
        "# サイトのトップ画面にアクセスする。\n",
        "chrome_driver.get('https://terakoya.sejuku.net/home') # 第一引数にアドレスを入力する。\n",
        "\n",
        "# トップ画面にログインボタンが表示されるのを待つ。\n",
        "wait = WebDriverWait(chrome_driver, 30) #第一引数=セレニウムのウェブドライバー、第二引数=30秒をウェブドライバーウェイトで実行する。\n",
        "header_login_button = wait.until(\n",
        "    EC.visibility_of_element_located(\n",
        "        (By.CSS_SELECTOR,\n",
        "         '#root > div > div > div > header > div > div > div.sc-febvLc.iamymF')\n",
        "    )\n",
        ") # トップ画面にアクセスして前のコードで設定waitでログインボタンが表示されたところECでログインボタンの要素を取得Byする。"
      ],
      "metadata": {
        "id": "P4GXHeJeamrK"
      },
      "execution_count": 43,
      "outputs": []
    },
    {
      "cell_type": "code",
      "source": [
        "# ボタンをクリックする。\n",
        "header_login_button.click() #引数不要"
      ],
      "metadata": {
        "id": "saJXwHaj419D"
      },
      "execution_count": 44,
      "outputs": []
    },
    {
      "cell_type": "code",
      "source": [
        "# ログイン情報の入力画面に遷移する・・・\n",
        "# メアドとパスワードを入力する。\n",
        "\n",
        "email_address = input('メールアドレスを入力してください：')\n",
        "password = getpass('パスワードを入力してください：')"
      ],
      "metadata": {
        "colab": {
          "base_uri": "https://localhost:8080/"
        },
        "id": "16dspuU2dcqB",
        "outputId": "c88ee6a3-61f4-4a09-c934-e93303578c17"
      },
      "execution_count": 45,
      "outputs": [
        {
          "name": "stdout",
          "output_type": "stream",
          "text": [
            "メールアドレスを入力してください：kamibukuro.yk@gmail.com\n",
            "パスワードを入力してください：··········\n"
          ]
        }
      ]
    },
    {
      "cell_type": "code",
      "source": [
        "# メアドとパスワードの位置（要素）を見つける。\n",
        "parent_element = chrome_driver.find_element(By.CSS_SELECTOR, '#root > div') # こっちで場所が特定できた。\n",
        "#parent_element = chrome_driver.find_element(By.CSS_SELECTOR, '.sc-pyfCe.lduieC')　#これでは場所を特定できない。\n",
        "email_input = parent_element.find_element(By.NAME, 'email')\n",
        "password_input = parent_element.find_element(By.NAME, 'password')"
      ],
      "metadata": {
        "id": "cSYaaFhgd77b"
      },
      "execution_count": 46,
      "outputs": []
    },
    {
      "cell_type": "code",
      "source": [
        "# セレニウムのkeyメソッドでメアドとパスワードを入力する。第一引数にアドレスとパスワードを設定する。\n",
        "email_input.send_keys(email_address)\n",
        "password_input.send_keys(password)"
      ],
      "metadata": {
        "id": "J3nWu7rtgaMc"
      },
      "execution_count": 47,
      "outputs": []
    },
    {
      "cell_type": "code",
      "source": [
        "# ログインボタンをクリックする。\n",
        "# ログインボタンが表示されるまで30秒待ってのログインボタンの場所を特定する。\n",
        "from_login_button = wait.until(\n",
        "    EC.visibility_of_element_located(\n",
        "        (By.CSS_SELECTOR,\n",
        "         '#root > div > div > div >'\n",
        "         'div > div > div > button'\n",
        "         )\n",
        "    )\n",
        ")\n"
      ],
      "metadata": {
        "id": "ZE8t3e49g-4I"
      },
      "execution_count": 48,
      "outputs": []
    },
    {
      "cell_type": "code",
      "source": [
        "# ボタンをクリックする。\n",
        "from_login_button.click() # 引数は不要"
      ],
      "metadata": {
        "id": "uT7-AEKpiGx5"
      },
      "execution_count": 49,
      "outputs": []
    },
    {
      "cell_type": "code",
      "source": [
        "# ログイン後、要素が読み込まれるまで待つ。侍寺子屋のロゴが表示されること=読み込まれる。\n",
        "wait.until(EC.visibility_of_element_located((By.CSS_SELECTOR, 'nav > img'))) # ロゴが表示されるまで30秒待つ。\n"
      ],
      "metadata": {
        "colab": {
          "base_uri": "https://localhost:8080/"
        },
        "id": "AOk_ehjtiVEz",
        "outputId": "2cf2dcb0-00ab-46bf-ad69-2f86a0a024eb"
      },
      "execution_count": 50,
      "outputs": [
        {
          "output_type": "execute_result",
          "data": {
            "text/plain": [
              "<selenium.webdriver.remote.webelement.WebElement (session=\"ffe798afe0e577d562ae977ff2aaee43\", element=\"844E4D2936EE102786449A39E9E8CC76_element_4\")>"
            ]
          },
          "metadata": {},
          "execution_count": 50
        }
      ]
    },
    {
      "cell_type": "code",
      "source": [
        "# サイトのhome画面にアクセスする。\n",
        "#chrome_driver.get('https://terakoya.sejuku.net/home') # セレニウムgetメソッドにurlを入力。\n",
        "\n",
        "# ページが表示されるまで待つ時間を設定する。\n",
        "#wait = WebDriverWait(chrome_driver, 30)\n",
        "# プロフィールリンクが設定時間まで表示されるのを待つ。\n",
        "profile_link = wait.until(\n",
        "    EC.visibility_of_element_located(\n",
        "        (By.CSS_SELECTOR,\n",
        "         '#root >  div > div > div > header > div > div > div.sc-jeToga.lgFoIz')\n",
        "    )\n",
        ")\n",
        "# プロフィールリンクをクリックする。\n",
        "profile_link.click()"
      ],
      "metadata": {
        "id": "lQr_nPBRlxWh"
      },
      "execution_count": 51,
      "outputs": []
    },
    {
      "cell_type": "code",
      "source": [
        "# プロフィール小窓画面が表示されるのを待つ。\n",
        "# アカウント設定リンクを選択する。\n",
        "profile_link_next = wait.until(\n",
        "    EC.visibility_of_element_located(\n",
        "        (By.CSS_SELECTOR,\n",
        "         '#root >  div >div >div >header >div >ul >a >li')\n",
        "    )\n",
        ")\n",
        "# アカウント設定リンクをクリックする。\n",
        "profile_link_next.click()"
      ],
      "metadata": {
        "id": "9yoiblhJn8ak"
      },
      "execution_count": 52,
      "outputs": []
    },
    {
      "cell_type": "code",
      "source": [
        "# マイアカウント画面が表示されたら編集ボタンをクリックする。\n",
        "myaccount_henshu_button = wait.until(\n",
        "    EC.visibility_of_element_located(\n",
        "        (By.CSS_SELECTOR,\n",
        "         '#root >  div >div >div > main >div >div >button')\n",
        "    )\n",
        ")\n",
        "\n",
        "myaccount_henshu_button.click()"
      ],
      "metadata": {
        "id": "Gl-fPeT0ulC8"
      },
      "execution_count": 53,
      "outputs": []
    },
    {
      "cell_type": "code",
      "source": [
        "# アカウント設定画面の自己紹介欄が表示されるのを待つ。\n",
        "myaccount_intro = wait.until(\n",
        "    EC.visibility_of_element_located(\n",
        "        (By.CSS_SELECTOR,\n",
        "         '#root >  div >div >div > main >div >div >div >div >textarea')\n",
        "    )\n",
        ")"
      ],
      "metadata": {
        "id": "xwNfHBFOo7rR"
      },
      "execution_count": 54,
      "outputs": []
    },
    {
      "cell_type": "code",
      "source": [
        "# 自己紹介欄に自己紹介を記入する。\n",
        "myaccount_intro.send_keys('プログラミング学習中です！今はスクレイピングに挑戦しています！')\n",
        "\n",
        "# 更新するボタンをクリックする。\n",
        "renew_button = chrome_driver.find_element(By.CSS_SELECTOR, '#root >  div >div >div > main >div >div > button.sc-eDvSVe.iklejs')\n",
        "renew_button.click()"
      ],
      "metadata": {
        "id": "rdGDVy1xr1pY"
      },
      "execution_count": 55,
      "outputs": []
    },
    {
      "cell_type": "code",
      "source": [
        "# 編集選択画面が表示されるまで待つ。\n",
        "wait.until(EC.visibility_of_element_located((By.CSS_SELECTOR, '#root >div > div >div >main > div> div > div >h3')))\n",
        "#スクリーンショットを撮る。\n",
        "chrome_driver.save_screenshot('screenshot.png')"
      ],
      "metadata": {
        "id": "3pMQ7S74wKqr",
        "colab": {
          "base_uri": "https://localhost:8080/"
        },
        "outputId": "1f0db90f-70bc-4a51-8b8f-2319552a42a5"
      },
      "execution_count": 56,
      "outputs": [
        {
          "output_type": "execute_result",
          "data": {
            "text/plain": [
              "True"
            ]
          },
          "metadata": {},
          "execution_count": 56
        }
      ]
    },
    {
      "cell_type": "code",
      "source": [
        "# ブラウザを閉じる。\n",
        "chrome_driver.quit()"
      ],
      "metadata": {
        "id": "TKZAZ8u2yM-N"
      },
      "execution_count": 57,
      "outputs": []
    }
  ]
}