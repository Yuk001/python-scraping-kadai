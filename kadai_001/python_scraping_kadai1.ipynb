{
  "nbformat": 4,
  "nbformat_minor": 0,
  "metadata": {
    "colab": {
      "provenance": []
    },
    "kernelspec": {
      "name": "python3",
      "display_name": "Python 3"
    },
    "language_info": {
      "name": "python"
    }
  },
  "cells": [
    {
      "cell_type": "code",
      "source": [
        "!pip install requests beautifulsoup4\n"
      ],
      "metadata": {
        "colab": {
          "base_uri": "https://localhost:8080/"
        },
        "id": "JOR9fUkSoren",
        "outputId": "1fe9e610-08f5-450e-c5f6-6c379d7a4d3f"
      },
      "execution_count": 3,
      "outputs": [
        {
          "output_type": "stream",
          "name": "stdout",
          "text": [
            "Requirement already satisfied: requests in /usr/local/lib/python3.10/dist-packages (2.31.0)\n",
            "Requirement already satisfied: beautifulsoup4 in /usr/local/lib/python3.10/dist-packages (4.11.2)\n",
            "Requirement already satisfied: charset-normalizer<4,>=2 in /usr/local/lib/python3.10/dist-packages (from requests) (3.3.2)\n",
            "Requirement already satisfied: idna<4,>=2.5 in /usr/local/lib/python3.10/dist-packages (from requests) (3.4)\n",
            "Requirement already satisfied: urllib3<3,>=1.21.1 in /usr/local/lib/python3.10/dist-packages (from requests) (2.0.7)\n",
            "Requirement already satisfied: certifi>=2017.4.17 in /usr/local/lib/python3.10/dist-packages (from requests) (2023.7.22)\n",
            "Requirement already satisfied: soupsieve>1.2 in /usr/local/lib/python3.10/dist-packages (from beautifulsoup4) (2.5)\n"
          ]
        }
      ]
    },
    {
      "cell_type": "code",
      "source": [
        "import requests\n",
        "from bs4 import BeautifulSoup"
      ],
      "metadata": {
        "id": "5jhr3bJlo07A"
      },
      "execution_count": 4,
      "outputs": []
    },
    {
      "cell_type": "code",
      "source": [
        "url = 'https://news.yahoo.co.jp/articles/dd45ca040d6d96e2a8013697f234557be437635b'\n",
        "response = requests.get(url)"
      ],
      "metadata": {
        "id": "sVyG65M0wDk5"
      },
      "execution_count": 9,
      "outputs": []
    },
    {
      "cell_type": "code",
      "source": [
        "soup = BeautifulSoup(response.text, 'html.parser')"
      ],
      "metadata": {
        "id": "UFC3mp5iwO-Q"
      },
      "execution_count": 10,
      "outputs": []
    },
    {
      "cell_type": "code",
      "source": [
        "article_element = soup.select_one('#uamods > div')"
      ],
      "metadata": {
        "id": "NnCqP_berFoK"
      },
      "execution_count": 15,
      "outputs": []
    },
    {
      "cell_type": "code",
      "source": [
        "article_text = article_element.text\n",
        "print(article_text)"
      ],
      "metadata": {
        "colab": {
          "base_uri": "https://localhost:8080/"
        },
        "id": "7NgcLbDtwdGv",
        "outputId": "ad7cef46-0cd5-47ca-cdf5-0ba484486de0"
      },
      "execution_count": 16,
      "outputs": [
        {
          "output_type": "stream",
          "name": "stdout",
          "text": [
            "Bloomberg（ブルームバーグ）： 15日の債券相場は上昇が予想されている。米国で10月の消費者物価指数（ＣＰＩ）の伸びが予想を下回り、金融当局の積極的な利上げサイクルは終わりを迎えたとの見方から長期金利が大幅に低下した流れを引き継ぐ。日本銀行が予定している定例の国債買い入れオペも相場を押し上げそうだ。三井住友トラスト・アセットマネジメントの稲留克俊シニアストラテジストは、米金利の低下で円債先物が大きく上昇しており買い先行で始まるとみる。「前日に５年国債入札をしっかりこなして、軟調だった超長期ゾーンは午後に買いが入るなど地合いは良い」とし、日銀の手厚いオペが予定されている超長期ゾーンが特に強くなりそうだと話した。同氏の新発10年物国債利回りの予想レンジは0.8～0.84％（14日は0.85％）、先物中心限月12月物は144円90銭～145円25銭（14日は144円62銭）。米ＣＰＩ、10月はコアと総合ともに鈍化－追加利上げ観測が後退先物夜間取引で12月物は14日の日中取引終値比54銭高の145円16銭で終えた。日銀オペ関連記事(c)2023 Bloomberg L.P.Hidenori Yamanaka\n"
          ]
        }
      ]
    }
  ]
}